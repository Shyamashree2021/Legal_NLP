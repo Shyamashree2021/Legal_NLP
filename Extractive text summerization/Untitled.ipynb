{
 "cells": [
  {
   "cell_type": "code",
   "execution_count": 50,
   "id": "9bf19e47",
   "metadata": {},
   "outputs": [
    {
     "name": "stdout",
     "output_type": "stream",
     "text": [
      "Requirement already satisfied: nltk in c:\\users\\padhi\\appdata\\local\\programs\\python\\python311\\lib\\site-packages (3.8.1)Note: you may need to restart the kernel to use updated packages.\n",
      "\n",
      "Requirement already satisfied: numpy in c:\\users\\padhi\\appdata\\local\\programs\\python\\python311\\lib\\site-packages (1.24.2)\n",
      "Requirement already satisfied: sklearn in c:\\users\\padhi\\appdata\\local\\programs\\python\\python311\\lib\\site-packages (0.0.post1)\n",
      "Requirement already satisfied: networkx in c:\\users\\padhi\\appdata\\local\\programs\\python\\python311\\lib\\site-packages (3.1)\n",
      "Requirement already satisfied: click in c:\\users\\padhi\\appdata\\local\\programs\\python\\python311\\lib\\site-packages (from nltk) (8.1.3)\n",
      "Requirement already satisfied: joblib in c:\\users\\padhi\\appdata\\local\\programs\\python\\python311\\lib\\site-packages (from nltk) (1.2.0)\n",
      "Requirement already satisfied: regex>=2021.8.3 in c:\\users\\padhi\\appdata\\local\\programs\\python\\python311\\lib\\site-packages (from nltk) (2023.5.5)\n",
      "Requirement already satisfied: tqdm in c:\\users\\padhi\\appdata\\local\\programs\\python\\python311\\lib\\site-packages (from nltk) (4.65.0)\n",
      "Requirement already satisfied: colorama in c:\\users\\padhi\\appdata\\roaming\\python\\python311\\site-packages (from click->nltk) (0.4.6)\n"
     ]
    }
   ],
   "source": [
    "pip install nltk numpy sklearn networkx\n"
   ]
  },
  {
   "cell_type": "code",
   "execution_count": 51,
   "id": "0b3321e3",
   "metadata": {},
   "outputs": [],
   "source": [
    "import nltk\n",
    "import numpy as np\n",
    "from sklearn.feature_extraction.text import TfidfVectorizer\n",
    "from sklearn.metrics.pairwise import cosine_similarity\n",
    "import networkx as nx\n"
   ]
  },
  {
   "cell_type": "code",
   "execution_count": 52,
   "id": "53f58096",
   "metadata": {},
   "outputs": [
    {
     "name": "stderr",
     "output_type": "stream",
     "text": [
      "[nltk_data] Downloading package punkt to\n",
      "[nltk_data]     C:\\Users\\padhi\\AppData\\Roaming\\nltk_data...\n",
      "[nltk_data]   Package punkt is already up-to-date!\n",
      "[nltk_data] Downloading package stopwords to\n",
      "[nltk_data]     C:\\Users\\padhi\\AppData\\Roaming\\nltk_data...\n",
      "[nltk_data]   Package stopwords is already up-to-date!\n"
     ]
    },
    {
     "data": {
      "text/plain": [
       "True"
      ]
     },
     "execution_count": 52,
     "metadata": {},
     "output_type": "execute_result"
    }
   ],
   "source": [
    "nltk.download('punkt')\n",
    "nltk.download('stopwords')\n"
   ]
  },
  {
   "cell_type": "code",
   "execution_count": 53,
   "id": "e11deaa6",
   "metadata": {},
   "outputs": [],
   "source": [
    "from nltk.tokenize import sent_tokenize\n",
    "from nltk.corpus import stopwords\n",
    "\n",
    "def preprocess_text(text):\n",
    "    # Tokenize into sentences\n",
    "    sentences = sent_tokenize(text)\n",
    "\n",
    "    # Remove stopwords\n",
    "    stop_words = set(stopwords.words('english'))\n",
    "    sentences = [sentence for sentence in sentences if sentence.lower() not in stop_words]\n",
    "\n",
    "    # Convert sentences to lowercase\n",
    "    sentences = [sentence.lower() for sentence in sentences]\n",
    "\n",
    "    return sentences\n"
   ]
  },
  {
   "cell_type": "code",
   "execution_count": 54,
   "id": "1d6e09b7",
   "metadata": {},
   "outputs": [],
   "source": [
    "def calculate_similarity(sentences):\n",
    "    # Create TF-IDF vectorizer\n",
    "    vectorizer = TfidfVectorizer()\n",
    "\n",
    "    # Fit and transform the sentences\n",
    "    tfidf_matrix = vectorizer.fit_transform(sentences)\n",
    "\n",
    "    # Calculate the cosine similarity matrix\n",
    "    similarity_matrix = cosine_similarity(tfidf_matrix, tfidf_matrix)\n",
    "\n",
    "    return similarity_matrix\n"
   ]
  },
  {
   "cell_type": "code",
   "execution_count": 55,
   "id": "414b4a94",
   "metadata": {},
   "outputs": [],
   "source": [
    "def generate_summary(text, num_sentences=3):\n",
    "    # Preprocess the text\n",
    "    sentences = preprocess_text(text)\n",
    "\n",
    "    # Calculate the sentence similarity matrix\n",
    "    similarity_matrix = calculate_similarity(sentences)\n",
    "\n",
    "    # Convert the similarity matrix to a graph\n",
    "    similarity_graph = nx.from_numpy_array(similarity_matrix)\n",
    "\n",
    "    # Calculate the PageRank scores\n",
    "    scores = nx.pagerank(similarity_graph)\n",
    "\n",
    "    # Sort the sentences by their scores\n",
    "    ranked_sentences = sorted(((scores[i], sentence) for i, sentence in enumerate(sentences)), reverse=True)\n",
    "\n",
    "    # Select the top sentences for the summary\n",
    "    summary_sentences = [sentence for _, sentence in ranked_sentences[:num_sentences]]\n",
    "\n",
    "    # Join the summary sentences into a single string\n",
    "    summary = ' '.join(summary_sentences)\n",
    "\n",
    "    return summary\n"
   ]
  },
  {
   "cell_type": "code",
   "execution_count": 56,
   "id": "31809686",
   "metadata": {},
   "outputs": [
    {
     "name": "stdout",
     "output_type": "stream",
     "text": [
      "the trading loss was deducted from this amount leaving a credit balance of rs 749308 11 7 and that amount was shown as the profit for the year 1949 in the balance sheet for that year. the balance which had been brought forward from the previous year was added thereto and a dividend of 2434 per cent was paid to the ordinary shareholders. as a result of all these circumstances the appellant suffered a trading loss of rs 502563 1 10.\n",
      "a sum of rs 250000 being the excess reserve for taxation was written back and a sum of rs 1001871 13 5 being the amount of reserve transferred from the investment account was also brought in.\n"
     ]
    }
   ],
   "source": [
    "input_text = '''\n",
    "This appeal with special leave is directed against the judgment and order of the labour appellate tribunal of india in a dispute regarding the workers claim for bonus.\n",
    "during the year 1948 the appellant made a profit of rs 1197648 11 9.\n",
    "it paid 24 3 per cent.\n",
    "dividend on ordinary shares being the maximum that could be paid under the public companies limitation of dividend ordinance of 1948 and also paid to the workers their full share of bonus at annas 4 in a rupee of their basic earnings.\n",
    "during the year 1949 the selling rates for cloth and yarn were controlled by the government and were approximately 4 per cent.\n",
    "below those obtained in 1948.\n",
    "the basic wages were increased from the 1st december 1948 by order of the government of uttar pradesh and the total wages paid were therefore higher than those in the previous year.\n",
    "there was moreover indiscipline amongst the workers and production suffered.\n",
    "there was a strike in the month of october and the mills were closed for nearly a month.\n",
    "further the management were unable to secure cotton which resulted in the curtailment of the working hours.\n",
    "as a result of all these circumstances the appellant suffered a trading loss of rs 502563 1 10.\n",
    "a sum of rs 250000 being the excess reserve for taxation was written back and a sum of rs 1001871 13 5 being the amount of reserve transferred from the investment account was also brought in.\n",
    "an aggregate sum of rs 1251871 13 5 was thus brought into the balance sheet by these two transfers.\n",
    "the trading loss was deducted from this amount leaving a credit balance of rs 749308 11 7 and that amount was shown as the profit for the year 1949 in the balance sheet for that year.\n",
    "the balance which had been brought forward from the previous year was added thereto and a dividend of 2434 per cent was paid to the ordinary shareholders.\n",
    "'''\n",
    "\n",
    "summary = generate_summary(input_text, num_sentences=3)\n",
    "print(summary)\n"
   ]
  },
  {
   "cell_type": "code",
   "execution_count": null,
   "id": "78007e05",
   "metadata": {},
   "outputs": [],
   "source": []
  }
 ],
 "metadata": {
  "kernelspec": {
   "display_name": "Python 3 (ipykernel)",
   "language": "python",
   "name": "python3"
  },
  "language_info": {
   "codemirror_mode": {
    "name": "ipython",
    "version": 3
   },
   "file_extension": ".py",
   "mimetype": "text/x-python",
   "name": "python",
   "nbconvert_exporter": "python",
   "pygments_lexer": "ipython3",
   "version": "3.11.2"
  }
 },
 "nbformat": 4,
 "nbformat_minor": 5
}
